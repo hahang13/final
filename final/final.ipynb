{
 "cells": [
  {
   "cell_type": "code",
   "execution_count": 3,
   "metadata": {},
   "outputs": [],
   "source": [
    "import os\n",
    "import sys\n",
    "import urllib.request\n",
    "from urllib.parse import *\n",
    "import requests\n",
    "from bs4 import BeautifulSoup\n",
    "import json\n",
    "import re"
   ]
  },
  {
   "cell_type": "code",
   "execution_count": 5,
   "metadata": {},
   "outputs": [],
   "source": [
    "# 네이버 오픈 api\n",
    "client_id = \"ynrZbKNSqXIZeNBblu3j\"\n",
    "client_secret = \"kby4kmywI7\""
   ]
  },
  {
   "cell_type": "code",
   "execution_count": 6,
   "metadata": {},
   "outputs": [],
   "source": [
    "keyword_1 = ['인공지능']\n",
    "keyword_2 = ['AI']\n",
    "\n",
    "display = 30"
   ]
  },
  {
   "cell_type": "code",
   "execution_count": 10,
   "metadata": {},
   "outputs": [],
   "source": [
    "url = 'https://openapi.naver.com/v1/search/news.json'"
   ]
  },
  {
   "cell_type": "code",
   "execution_count": null,
   "metadata": {},
   "outputs": [],
   "source": [
    "def Keyword('인공지능', '100'):\n",
    "    headers = { 'X-Naver-Client-Id' :client_id\n",
    "               , 'X-Naver-Client-Secret' : client_secret}\n",
    "\n",
    "    params = {'query':keyw} "
   ]
  },
  {
   "cell_type": "code",
   "execution_count": null,
   "metadata": {},
   "outputs": [],
   "source": []
  },
  {
   "cell_type": "code",
   "execution_count": null,
   "metadata": {},
   "outputs": [],
   "source": []
  },
  {
   "cell_type": "code",
   "execution_count": null,
   "metadata": {},
   "outputs": [],
   "source": []
  },
  {
   "cell_type": "code",
   "execution_count": null,
   "metadata": {},
   "outputs": [],
   "source": []
  },
  {
   "cell_type": "code",
   "execution_count": 8,
   "metadata": {},
   "outputs": [
    {
     "ename": "HTTPError",
     "evalue": "HTTP Error 401: Unauthorized",
     "output_type": "error",
     "traceback": [
      "\u001b[1;31m---------------------------------------------------------------------------\u001b[0m",
      "\u001b[1;31mHTTPError\u001b[0m                                 Traceback (most recent call last)",
      "Cell \u001b[1;32mIn[8], line 75\u001b[0m\n\u001b[0;32m     71\u001b[0m         url_to_html(title_links, keyword_1[i])\n\u001b[0;32m     74\u001b[0m \u001b[39mif\u001b[39;00m \u001b[39m__name__\u001b[39m \u001b[39m==\u001b[39m \u001b[39m'\u001b[39m\u001b[39m__main__\u001b[39m\u001b[39m'\u001b[39m:\n\u001b[1;32m---> 75\u001b[0m     keyword_combined(keyword_1, keyword_2)\n",
      "Cell \u001b[1;32mIn[8], line 70\u001b[0m, in \u001b[0;36mkeyword_combined\u001b[1;34m(keyword_1, keyword_2)\u001b[0m\n\u001b[0;32m     68\u001b[0m \u001b[39melse\u001b[39;00m:\n\u001b[0;32m     69\u001b[0m     \u001b[39mfor\u001b[39;00m j \u001b[39min\u001b[39;00m \u001b[39mrange\u001b[39m(\u001b[39mlen\u001b[39m(keyword_2)):\n\u001b[1;32m---> 70\u001b[0m         title_links \u001b[39m=\u001b[39m {\u001b[39m*\u001b[39m\u001b[39m*\u001b[39mtitle_links, \u001b[39m*\u001b[39m\u001b[39m*\u001b[39m(news_search(keyword_1[i] \u001b[39m+\u001b[39;49m \u001b[39m\"\u001b[39;49m\u001b[39m \u001b[39;49m\u001b[39m\"\u001b[39;49m \u001b[39m+\u001b[39;49m keyword_2[j]))}\n\u001b[0;32m     71\u001b[0m url_to_html(title_links, keyword_1[i])\n",
      "Cell \u001b[1;32mIn[8], line 12\u001b[0m, in \u001b[0;36mnews_search\u001b[1;34m(min_name)\u001b[0m\n\u001b[0;32m      8\u001b[0m request\u001b[39m.\u001b[39madd_header(\u001b[39m\"\u001b[39m\u001b[39mX-Naver-Client-Id\u001b[39m\u001b[39m\"\u001b[39m,client_id)\n\u001b[0;32m      9\u001b[0m request\u001b[39m.\u001b[39madd_header(\u001b[39m\"\u001b[39m\u001b[39mX-Naver-Client-Secret\u001b[39m\u001b[39m\"\u001b[39m,client_secret)\n\u001b[1;32m---> 12\u001b[0m response \u001b[39m=\u001b[39m urllib\u001b[39m.\u001b[39;49mrequest\u001b[39m.\u001b[39;49murlopen(request)\n\u001b[0;32m     13\u001b[0m rescode \u001b[39m=\u001b[39m response\u001b[39m.\u001b[39mgetcode()\n\u001b[0;32m     14\u001b[0m \u001b[39mif\u001b[39;00m(rescode\u001b[39m==\u001b[39m\u001b[39m200\u001b[39m):\n\u001b[0;32m     15\u001b[0m     \u001b[39m#response_body_str = response.read().decode('utf-8')\u001b[39;00m\n",
      "File \u001b[1;32mc:\\Users\\PC\\anaconda3\\envs\\final-dev\\Lib\\urllib\\request.py:216\u001b[0m, in \u001b[0;36murlopen\u001b[1;34m(url, data, timeout, cafile, capath, cadefault, context)\u001b[0m\n\u001b[0;32m    214\u001b[0m \u001b[39melse\u001b[39;00m:\n\u001b[0;32m    215\u001b[0m     opener \u001b[39m=\u001b[39m _opener\n\u001b[1;32m--> 216\u001b[0m \u001b[39mreturn\u001b[39;00m opener\u001b[39m.\u001b[39;49mopen(url, data, timeout)\n",
      "File \u001b[1;32mc:\\Users\\PC\\anaconda3\\envs\\final-dev\\Lib\\urllib\\request.py:525\u001b[0m, in \u001b[0;36mOpenerDirector.open\u001b[1;34m(self, fullurl, data, timeout)\u001b[0m\n\u001b[0;32m    523\u001b[0m \u001b[39mfor\u001b[39;00m processor \u001b[39min\u001b[39;00m \u001b[39mself\u001b[39m\u001b[39m.\u001b[39mprocess_response\u001b[39m.\u001b[39mget(protocol, []):\n\u001b[0;32m    524\u001b[0m     meth \u001b[39m=\u001b[39m \u001b[39mgetattr\u001b[39m(processor, meth_name)\n\u001b[1;32m--> 525\u001b[0m     response \u001b[39m=\u001b[39m meth(req, response)\n\u001b[0;32m    527\u001b[0m \u001b[39mreturn\u001b[39;00m response\n",
      "File \u001b[1;32mc:\\Users\\PC\\anaconda3\\envs\\final-dev\\Lib\\urllib\\request.py:634\u001b[0m, in \u001b[0;36mHTTPErrorProcessor.http_response\u001b[1;34m(self, request, response)\u001b[0m\n\u001b[0;32m    631\u001b[0m \u001b[39m# According to RFC 2616, \"2xx\" code indicates that the client's\u001b[39;00m\n\u001b[0;32m    632\u001b[0m \u001b[39m# request was successfully received, understood, and accepted.\u001b[39;00m\n\u001b[0;32m    633\u001b[0m \u001b[39mif\u001b[39;00m \u001b[39mnot\u001b[39;00m (\u001b[39m200\u001b[39m \u001b[39m<\u001b[39m\u001b[39m=\u001b[39m code \u001b[39m<\u001b[39m \u001b[39m300\u001b[39m):\n\u001b[1;32m--> 634\u001b[0m     response \u001b[39m=\u001b[39m \u001b[39mself\u001b[39;49m\u001b[39m.\u001b[39;49mparent\u001b[39m.\u001b[39;49merror(\n\u001b[0;32m    635\u001b[0m         \u001b[39m'\u001b[39;49m\u001b[39mhttp\u001b[39;49m\u001b[39m'\u001b[39;49m, request, response, code, msg, hdrs)\n\u001b[0;32m    637\u001b[0m \u001b[39mreturn\u001b[39;00m response\n",
      "File \u001b[1;32mc:\\Users\\PC\\anaconda3\\envs\\final-dev\\Lib\\urllib\\request.py:563\u001b[0m, in \u001b[0;36mOpenerDirector.error\u001b[1;34m(self, proto, *args)\u001b[0m\n\u001b[0;32m    561\u001b[0m \u001b[39mif\u001b[39;00m http_err:\n\u001b[0;32m    562\u001b[0m     args \u001b[39m=\u001b[39m (\u001b[39mdict\u001b[39m, \u001b[39m'\u001b[39m\u001b[39mdefault\u001b[39m\u001b[39m'\u001b[39m, \u001b[39m'\u001b[39m\u001b[39mhttp_error_default\u001b[39m\u001b[39m'\u001b[39m) \u001b[39m+\u001b[39m orig_args\n\u001b[1;32m--> 563\u001b[0m     \u001b[39mreturn\u001b[39;00m \u001b[39mself\u001b[39;49m\u001b[39m.\u001b[39;49m_call_chain(\u001b[39m*\u001b[39;49margs)\n",
      "File \u001b[1;32mc:\\Users\\PC\\anaconda3\\envs\\final-dev\\Lib\\urllib\\request.py:496\u001b[0m, in \u001b[0;36mOpenerDirector._call_chain\u001b[1;34m(self, chain, kind, meth_name, *args)\u001b[0m\n\u001b[0;32m    494\u001b[0m \u001b[39mfor\u001b[39;00m handler \u001b[39min\u001b[39;00m handlers:\n\u001b[0;32m    495\u001b[0m     func \u001b[39m=\u001b[39m \u001b[39mgetattr\u001b[39m(handler, meth_name)\n\u001b[1;32m--> 496\u001b[0m     result \u001b[39m=\u001b[39m func(\u001b[39m*\u001b[39;49margs)\n\u001b[0;32m    497\u001b[0m     \u001b[39mif\u001b[39;00m result \u001b[39mis\u001b[39;00m \u001b[39mnot\u001b[39;00m \u001b[39mNone\u001b[39;00m:\n\u001b[0;32m    498\u001b[0m         \u001b[39mreturn\u001b[39;00m result\n",
      "File \u001b[1;32mc:\\Users\\PC\\anaconda3\\envs\\final-dev\\Lib\\urllib\\request.py:643\u001b[0m, in \u001b[0;36mHTTPDefaultErrorHandler.http_error_default\u001b[1;34m(self, req, fp, code, msg, hdrs)\u001b[0m\n\u001b[0;32m    642\u001b[0m \u001b[39mdef\u001b[39;00m \u001b[39mhttp_error_default\u001b[39m(\u001b[39mself\u001b[39m, req, fp, code, msg, hdrs):\n\u001b[1;32m--> 643\u001b[0m     \u001b[39mraise\u001b[39;00m HTTPError(req\u001b[39m.\u001b[39mfull_url, code, msg, hdrs, fp)\n",
      "\u001b[1;31mHTTPError\u001b[0m: HTTP Error 401: Unauthorized"
     ]
    }
   ],
   "source": [
    "# # Input(str) : 뉴스에 검색할 단어 넣기\n",
    "# def news_search(min_name):\n",
    "#     encText = urllib.parse.quote(min_name)\n",
    "#     url = \"https://openapi.naver.com/v1/search/news.json?query=\" + encText + \\\n",
    "#         \"&display=\" + str(display) + \"&sort=sim\"\n",
    "#          # json 결과\n",
    "#     # url = \"https://openapi.naver.com/v1/search/news.xml?query=\" + encText # xml 결과\n",
    "#     request = urllib.request.Request(url)\n",
    "#     request.add_header(\"X-Naver-Client-Id\",client_id)\n",
    "#     request.add_header(\"X-Naver-Client-Secret\",client_secret)\n",
    "\n",
    "\n",
    "#     response = urllib.request.urlopen(request)\n",
    "#     rescode = response.getcode()\n",
    "#     if(rescode==200):\n",
    "#         #response_body_str = response.read().decode('utf-8')\n",
    "#         response_body_str = response.read().decode('utf-8')\n",
    "#         json_acceptable_string = response_body_str.replace(\"'\", \"\\\"\")\n",
    "#         response_body = json.loads(response_body_str)\n",
    "#         title_link = {}\n",
    "#         for i in range(0, len(response_body['items'])):\n",
    "#             title_link[response_body['items'][i]['title']] = \\\n",
    "#                 response_body['items'][i]['link']\n",
    "#         return title_link\n",
    "\n",
    "#     else:\n",
    "#         print(\"Error Code:\" + rescode)\n",
    "\n",
    "\n",
    "# # extract urls from correspoding response_body\n",
    "# def get_url(resbody):\n",
    "#     title_link = {}\n",
    "#     #print(str(len(resbody['items'])) + ' length of resbody of items')\n",
    "#     for i in range(0, len(resbody['items'])):\n",
    "#         #print(resbody['items'][i]['title'])\n",
    "#         title_link[resbody['items'][i]['title']] = resbody['items'][i]['link']\n",
    "#     return title_link\n",
    "\n",
    "\n",
    "# # using url list, crawl html and store them as .html\n",
    "# def url_to_html(title_links, cur_keyword1):\n",
    "#     # using url, store them into .html\n",
    "#     # 1. Make a single html file and add links to it\n",
    "#     filename = re.sub(\"[\\/:*?\\\"<>|]\", \"\", cur_keyword1)\n",
    "#     f = open(filename + '.html', 'w', encoding='UTF-8')\n",
    "#     for k in title_links.keys():\n",
    "#         '''\n",
    "#         # 2. Make seperate folder for each keyword combiantion\n",
    "#         filename = re.sub(\"[\\/:*?\\\"<>|]\", \"\", k)\n",
    "#         path = os.path.abspath(\".\\\\\" + cur_keyword1)\n",
    "#         f = open(os.path.join(path, filename) +'.html', 'w', encoding='UTF-8')\n",
    "#         '''\n",
    "#         f.write(\"<A href=\" + \\\n",
    "#             title_links[k] + \">\" + \\\n",
    "#                 k + \"</A>\" + \"<br></br>\")\n",
    "\n",
    "# # 키워드 1 + 키워드 2 조합으로 검색\n",
    "# def keyword_combined(keyword_1, keyword_2):\n",
    "#     for i in range(len(keyword_1)):\n",
    "#         '''\n",
    "#         # Make folders for each articles\n",
    "#         # Uncomment it when you use \"2\" in url_to_html function\n",
    "#         if not os.path.exists(keyword_1[i]):\n",
    "#             os.makedirs(keyword_1[i])\n",
    "#         '''\n",
    "#         title_links = {}\n",
    "#         if len(keyword_2) == 0:\n",
    "#             title_links = {**title_links, **(news_search(keyword_1[i]))}\n",
    "#         else:\n",
    "#             for j in range(len(keyword_2)):\n",
    "#                 title_links = {**title_links, **(news_search(keyword_1[i] + \" \" + keyword_2[j]))}\n",
    "#         url_to_html(title_links, keyword_1[i])\n",
    "\n",
    "\n",
    "# if __name__ == '__main__':\n",
    "#     keyword_combined(keyword_1, keyword_2)"
   ]
  },
  {
   "cell_type": "code",
   "execution_count": null,
   "metadata": {},
   "outputs": [],
   "source": []
  },
  {
   "cell_type": "code",
   "execution_count": null,
   "metadata": {},
   "outputs": [],
   "source": []
  },
  {
   "cell_type": "code",
   "execution_count": null,
   "metadata": {},
   "outputs": [],
   "source": []
  },
  {
   "cell_type": "code",
   "execution_count": null,
   "metadata": {},
   "outputs": [],
   "source": []
  }
 ],
 "metadata": {
  "kernelspec": {
   "display_name": "final-dev",
   "language": "python",
   "name": "python3"
  },
  "language_info": {
   "codemirror_mode": {
    "name": "ipython",
    "version": 3
   },
   "file_extension": ".py",
   "mimetype": "text/x-python",
   "name": "python",
   "nbconvert_exporter": "python",
   "pygments_lexer": "ipython3",
   "version": "3.11.4"
  },
  "orig_nbformat": 4
 },
 "nbformat": 4,
 "nbformat_minor": 2
}
